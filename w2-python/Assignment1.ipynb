{
 "cells": [
  {
   "cell_type": "code",
   "execution_count": 4,
   "metadata": {},
   "outputs": [
    {
     "name": "stdout",
     "output_type": "stream",
     "text": [
      "the number 2 is prime\n",
      "the number 15 is not prime\n",
      "the number 7907 is prime\n",
      "the number -1 is not prime\n",
      "the number 0 is not prime\n"
     ]
    }
   ],
   "source": [
    "# Instruction: make sure your code pass the assertion statements\n",
    "\n",
    "# Given a positive integer N. The task is to write a Python program to check if the number is prime or not.\n",
    "def is_prime(n):\n",
    "    # Implement your code below here.\n",
    "    \n",
    "    if n <= 1:\n",
    "        print(\"the number\" ,n,\"is not prime\")\n",
    "        return False\n",
    "    \n",
    "    if n==2:\n",
    "        print(\"the number\", n, \"is prime\")\n",
    "        return True\n",
    "    else:    \n",
    "        for i in range(2,n):\n",
    "            if n%i==0:\n",
    "                print(\"the number\" ,n,\"is not prime\")\n",
    "                break\n",
    "        else:\n",
    "            print(\"the number\" ,n,\"is prime\")\n",
    "            return True\n",
    "\n",
    "    return False\n",
    "\n",
    "# DO NOT ALTER BELOW.\n",
    "assert is_prime(2)\n",
    "assert not is_prime(15)\n",
    "assert is_prime(7907)\n",
    "assert not is_prime(-1)\n",
    "assert not is_prime(0)\n",
    "\n",
    "'''\n",
    "1. assert的语法结构 - return True or False\n",
    "2. 考虑不同的数值 - 设置if的判断条件\n",
    "3. 设置一个变量 flag - 记录状态的作用\n",
    "'''\n"
   ]
  },
  {
   "cell_type": "code",
   "execution_count": 6,
   "metadata": {},
   "outputs": [],
   "source": [
    "# Write a function rotate(ar[], d) that rotates arr[] of size n by d elements.\n",
    "# Input ar = [1,2,3,4,5,6,7], d = 2\n",
    "# Output [3,4,5,6,7,1,2]\n",
    "\n",
    "def rotate(ar,d):\n",
    "    for i in range(d):\n",
    "        ar.insert(len(ar),ar[0])\n",
    "        ar.remove(ar[0])\n",
    "    return ar\n",
    "\n",
    "# DO NOT ALTER BELOW.\n",
    "assert rotate([1,2,3,4,5,6,7], 2) == [3,4,5,6,7,1,2]\n",
    "assert rotate([1,2,3], 4) == [2,3,1]"
   ]
  },
  {
   "cell_type": "code",
   "execution_count": 7,
   "metadata": {
    "scrolled": true
   },
   "outputs": [
    {
     "name": "stdout",
     "output_type": "stream",
     "text": [
      "[]\n",
      "[[4, 66], [2, 70], [3, 95], [5, 98], [1, 100]]\n"
     ]
    }
   ],
   "source": [
    "# Selection sort - implement a workable selection sort algorithm\n",
    "# https://www.runoob.com/w3cnote/selection-sort.html 作为参考\n",
    "# Input students would be a list of [student #, score], sort by score ascending order.\n",
    "def selection_sort(students):\n",
    "    if students==[]:\n",
    "        print(students)\n",
    "    else:\n",
    "        students_len = len(students)  #原始数据长度\n",
    "        for i in range(students_len-1):\n",
    "            for j in range(i+1, students_len):\n",
    "                if students[i][1] > students[j][1]:  #比较第i和第j个元素\n",
    "                    students[i], students[j] = students[j], students[i]   \n",
    "        print(students)\n",
    "    return students\n",
    "\n",
    "\n",
    "\n",
    "# DO NOT ALTER BELOW.\n",
    "assert selection_sort(     [] )== []\n",
    "assert selection_sort(      [[1, 100], [2, 70], [3, 95], [4, 66], [5, 98]]     ) == [[4, 66], [2, 70], [3, 95], [5, 98], [1, 100]]"
   ]
  },
  {
   "cell_type": "code",
   "execution_count": 2,
   "metadata": {
    "scrolled": true
   },
   "outputs": [
    {
     "name": "stdout",
     "output_type": "stream",
     "text": [
      "{}\n",
      "{'key1': 'val'}\n"
     ]
    }
   ],
   "source": [
    "\n",
    "# Convert a list of Tuples into Dictionary\n",
    "\n",
    "def convert(tup, di): \n",
    "    \n",
    "    #先判断是否为空\n",
    "    if tup==():\n",
    "        print (di)\n",
    "        return di\n",
    "    else:\n",
    "        temp = []\n",
    "        temp.append(tup)\n",
    "        di=dict(temp)\n",
    "\n",
    "    print(di)\n",
    "    return di \n",
    "      \n",
    "# DO NOT ALTER BELOW.\n",
    "assert convert((), {}) == {}\n",
    "assert convert(('key1', 'val'),{}) == {'key1': 'val'}"
   ]
  },
  {
   "cell_type": "code",
   "execution_count": null,
   "metadata": {},
   "outputs": [],
   "source": [
    "为什么 Python dict 可以做到常数级别的查找效率\n",
    "python中list对象的存储结构采用的是线性表，其查询复杂度为O(n),而dict对象的存储结构采用的是散列表，其在最优情况下查询复杂度为O(1)。"
   ]
  }
 ],
 "metadata": {
  "kernelspec": {
   "display_name": "Python 3",
   "language": "python",
   "name": "python3"
  },
  "language_info": {
   "codemirror_mode": {
    "name": "ipython",
    "version": 3
   },
   "file_extension": ".py",
   "mimetype": "text/x-python",
   "name": "python",
   "nbconvert_exporter": "python",
   "pygments_lexer": "ipython3",
   "version": "3.8.3"
  }
 },
 "nbformat": 4,
 "nbformat_minor": 4
}
